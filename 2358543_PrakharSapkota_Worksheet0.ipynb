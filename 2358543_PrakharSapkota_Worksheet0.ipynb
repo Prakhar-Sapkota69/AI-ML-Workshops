{
  "nbformat": 4,
  "nbformat_minor": 0,
  "metadata": {
    "colab": {
      "provenance": []
    },
    "kernelspec": {
      "name": "python3",
      "display_name": "Python 3"
    },
    "language_info": {
      "name": "python"
    }
  },
  "cells": [
    {
      "cell_type": "markdown",
      "source": [
        "1. **Exercise on Functions:** <br>\n",
        " 1.1. Create a Python program that converts between different units of measurement."
      ],
      "metadata": {
        "id": "1RKjZ-2Txns9"
      }
    },
    {
      "cell_type": "code",
      "execution_count": null,
      "metadata": {
        "colab": {
          "base_uri": "https://localhost:8080/"
        },
        "id": "_YB8og84XgN-",
        "outputId": "32f8bc32-8d11-4d46-e9ae-2f8d606bc804"
      },
      "outputs": [
        {
          "output_type": "stream",
          "name": "stdout",
          "text": [
            "Unit Conversion Program\n",
            "1. Length\n",
            "2. Weight\n",
            "3. Volume\n",
            "Choose the type of conversion (1-3): 2\n",
            "Enter the value to convert: 234\n",
            "Weight Conversion Options:\n",
            "1. Kilograms (kg) to Pounds (lbs)\n",
            "2. Pounds (lbs) to Kilograms (kg)\n",
            "Choose the conversion (1-2): 2\n",
            "234.0 pounds = 106.14 kilograms\n"
          ]
        }
      ],
      "source": [
        "def convert_length(value, from_unit, to_unit):\n",
        "    \"\"\"\n",
        "    Converts a length value from one unit to another.\n",
        "\n",
        "    Parameters:\n",
        "        value (float): The value to be converted.\n",
        "        from_unit (str): The unit to convert from ('m' for meters, 'ft' for feet).\n",
        "        to_unit (str): The unit to convert to ('m' for meters, 'ft' for feet).\n",
        "\n",
        "    Returns:\n",
        "        float: The converted value.\n",
        "    \"\"\"\n",
        "    if from_unit == 'm' and to_unit == 'ft':\n",
        "        return value * 3.28084  # 1 meter = 3.28084 feet\n",
        "    elif from_unit == 'ft' and to_unit == 'm':\n",
        "        return value / 3.28084  # 1 foot = 0.3048 meters\n",
        "    else:\n",
        "        raise ValueError(\"Unsupported length conversion.\")\n",
        "\n",
        "\n",
        "def convert_weight(value, from_unit, to_unit):\n",
        "    \"\"\"\n",
        "    Converts a weight value from one unit to another.\n",
        "\n",
        "    Parameters:\n",
        "        value (float): The value to be converted.\n",
        "        from_unit (str): The unit to convert from ('kg' for kilograms, 'lbs' for pounds).\n",
        "        to_unit (str): The unit to convert to ('kg' for kilograms, 'lbs' for pounds).\n",
        "\n",
        "    Returns:\n",
        "        float: The converted value.\n",
        "    \"\"\"\n",
        "    if from_unit == 'kg' and to_unit == 'lbs':\n",
        "        return value * 2.20462  # 1 kilogram = 2.20462 pounds\n",
        "    elif from_unit == 'lbs' and to_unit == 'kg':\n",
        "        return value / 2.20462  # 1 pound = 0.453592 kilograms\n",
        "    else:\n",
        "        raise ValueError(\"Unsupported weight conversion.\")\n",
        "\n",
        "\n",
        "def convert_volume(value, from_unit, to_unit):\n",
        "    \"\"\"\n",
        "    Converts a volume value from one unit to another.\n",
        "\n",
        "    Parameters:\n",
        "        value (float): The value to be converted.\n",
        "        from_unit (str): The unit to convert from ('L' for liters, 'gal' for gallons).\n",
        "        to_unit (str): The unit to convert to ('L' for liters, 'gal' for gallons).\n",
        "\n",
        "    Returns:\n",
        "        float: The converted value.\n",
        "    \"\"\"\n",
        "    if from_unit == 'L' and to_unit == 'gal':\n",
        "        return value * 0.264172  # 1 liter = 0.264172 gallons\n",
        "    elif from_unit == 'gal' and to_unit == 'L':\n",
        "        return value / 0.264172  # 1 gallon = 3.78541 liters\n",
        "    else:\n",
        "        raise ValueError(\"Unsupported volume conversion.\")\n",
        "\n",
        "\n",
        "def main():\n",
        "    print(\"Unit Conversion Program\")\n",
        "    print(\"1. Length\")\n",
        "    print(\"2. Weight\")\n",
        "    print(\"3. Volume\")\n",
        "\n",
        "    try:\n",
        "        # Prompt user to choose conversion type\n",
        "        choice = int(input(\"Choose the type of conversion (1-3): \"))\n",
        "        if choice not in [1, 2, 3]:\n",
        "            raise ValueError(\"Invalid choice. Please select 1, 2, or 3.\")\n",
        "\n",
        "        # Prompt user to input value\n",
        "        value = float(input(\"Enter the value to convert: \"))\n",
        "\n",
        "        # Perform conversion based on user choice\n",
        "        if choice == 1:\n",
        "            print(\"Length Conversion Options:\")\n",
        "            print(\"1. Meters (m) to Feet (ft)\")\n",
        "            print(\"2. Feet (ft) to Meters (m)\")\n",
        "            sub_choice = int(input(\"Choose the conversion (1-2): \"))\n",
        "            if sub_choice == 1:\n",
        "                result = convert_length(value, 'm', 'ft')\n",
        "                print(f\"{value} meters = {result:.2f} feet\")\n",
        "            elif sub_choice == 2:\n",
        "                result = convert_length(value, 'ft', 'm')\n",
        "                print(f\"{value} feet = {result:.2f} meters\")\n",
        "            else:\n",
        "                raise ValueError(\"Invalid choice for length conversion.\")\n",
        "\n",
        "        elif choice == 2:\n",
        "            print(\"Weight Conversion Options:\")\n",
        "            print(\"1. Kilograms (kg) to Pounds (lbs)\")\n",
        "            print(\"2. Pounds (lbs) to Kilograms (kg)\")\n",
        "            sub_choice = int(input(\"Choose the conversion (1-2): \"))\n",
        "            if sub_choice == 1:\n",
        "                result = convert_weight(value, 'kg', 'lbs')\n",
        "                print(f\"{value} kilograms = {result:.2f} pounds\")\n",
        "            elif sub_choice == 2:\n",
        "                result = convert_weight(value, 'lbs', 'kg')\n",
        "                print(f\"{value} pounds = {result:.2f} kilograms\")\n",
        "            else:\n",
        "                raise ValueError(\"Invalid choice for weight conversion.\")\n",
        "\n",
        "        elif choice == 3:\n",
        "            print(\"Volume Conversion Options:\")\n",
        "            print(\"1. Liters (L) to Gallons (gal)\")\n",
        "            print(\"2. Gallons (gal) to Liters (L)\")\n",
        "            sub_choice = int(input(\"Choose the conversion (1-2): \"))\n",
        "            if sub_choice == 1:\n",
        "                result = convert_volume(value, 'L', 'gal')\n",
        "                print(f\"{value} liters = {result:.2f} gallons\")\n",
        "            elif sub_choice == 2:\n",
        "                result = convert_volume(value, 'gal', 'L')\n",
        "                print(f\"{value} gallons = {result:.2f} liters\")\n",
        "            else:\n",
        "                raise ValueError(\"Invalid choice for volume conversion.\")\n",
        "\n",
        "    except ValueError as e:\n",
        "        print(f\"Error: {e}\")\n",
        "    except Exception as e:\n",
        "        print(f\"An unexpected error occurred: {e}\")\n",
        "\n",
        "\n",
        "if __name__ == \"__main__\":\n",
        "    main()"
      ]
    },
    {
      "cell_type": "markdown",
      "source": [
        "1.2. Create a Python program that performs various mathematical operations on a list of numbers."
      ],
      "metadata": {
        "id": "KYdewBylyOrh"
      }
    },
    {
      "cell_type": "code",
      "source": [
        "def calculate_sum(numbers):\n",
        "    \"\"\"\n",
        "    Calculates the sum of a list of numbers.\n",
        "\n",
        "    Parameters:\n",
        "        numbers (list of float): The list of numbers to sum.\n",
        "\n",
        "    Returns:\n",
        "        float: The sum of the numbers.\n",
        "    \"\"\"\n",
        "    return sum(numbers)\n",
        "\n",
        "\n",
        "def calculate_average(numbers):\n",
        "    \"\"\"\n",
        "    Calculates the average of a list of numbers.\n",
        "\n",
        "    Parameters:\n",
        "        numbers (list of float): The list of numbers to average.\n",
        "\n",
        "    Returns:\n",
        "        float: The average of the numbers.\n",
        "    \"\"\"\n",
        "    return sum(numbers) / len(numbers)\n",
        "\n",
        "\n",
        "def find_maximum(numbers):\n",
        "    \"\"\"\n",
        "    Finds the maximum value in a list of numbers.\n",
        "\n",
        "    Parameters:\n",
        "        numbers (list of float): The list of numbers to search.\n",
        "\n",
        "    Returns:\n",
        "        float: The maximum value in the list.\n",
        "    \"\"\"\n",
        "    return max(numbers)\n",
        "\n",
        "\n",
        "def find_minimum(numbers):\n",
        "    \"\"\"\n",
        "    Finds the minimum value in a list of numbers.\n",
        "\n",
        "    Parameters:\n",
        "        numbers (list of float): The list of numbers to search.\n",
        "\n",
        "    Returns:\n",
        "        float: The minimum value in the list.\n",
        "    \"\"\"\n",
        "    return min(numbers)\n",
        "\n",
        "\n",
        "def main():\n",
        "    print(\"Mathematical Operations Program\")\n",
        "    print(\"1. Sum\")\n",
        "    print(\"2. Average\")\n",
        "    print(\"3. Maximum\")\n",
        "    print(\"4. Minimum\")\n",
        "\n",
        "    try:\n",
        "        # Prompt user to choose an operation\n",
        "        choice = int(input(\"Choose the operation (1-4): \"))\n",
        "        if choice not in [1, 2, 3, 4]:\n",
        "            raise ValueError(\"Invalid choice. Please select 1, 2, 3, or 4.\")\n",
        "\n",
        "        # Prompt user to input a list of numbers\n",
        "        input_numbers = input(\"Enter a list of numbers separated by spaces: \")\n",
        "        numbers = [float(num) for num in input_numbers.split()]\n",
        "\n",
        "        if not numbers:\n",
        "            raise ValueError(\"Empty list. Please enter at least one number.\")\n",
        "\n",
        "        # Perform the selected operation\n",
        "        if choice == 1:\n",
        "            result = calculate_sum(numbers)\n",
        "            print(f\"The sum of the numbers is: {result}\")\n",
        "        elif choice == 2:\n",
        "            result = calculate_average(numbers)\n",
        "            print(f\"The average of the numbers is: {result}\")\n",
        "        elif choice == 3:\n",
        "            result = find_maximum(numbers)\n",
        "            print(f\"The maximum number is: {result}\")\n",
        "        elif choice == 4:\n",
        "            result = find_minimum(numbers)\n",
        "            print(f\"The minimum number is: {result}\")\n",
        "\n",
        "    except ValueError as e:\n",
        "        print(f\"Error: {e}\")\n",
        "    except Exception as e:\n",
        "        print(f\"An unexpected error occurred: {e}\")\n",
        "\n",
        "\n",
        "if __name__ == \"__main__\":\n",
        "    main()"
      ],
      "metadata": {
        "colab": {
          "base_uri": "https://localhost:8080/"
        },
        "id": "y34f4nqZZnp5",
        "outputId": "89b89594-c2c8-4987-bcbc-5e463e3b4073"
      },
      "execution_count": null,
      "outputs": [
        {
          "output_type": "stream",
          "name": "stdout",
          "text": [
            "Mathematical Operations Program\n",
            "1. Sum\n",
            "2. Average\n",
            "3. Maximum\n",
            "4. Minimum\n",
            "Choose the operation (1-4): 1\n",
            "Enter a list of numbers separated by spaces: 1 2 4 6 7\n",
            "The sum of the numbers is: 20.0\n"
          ]
        }
      ]
    },
    {
      "cell_type": "markdown",
      "source": [
        "2. **Exercise on List Manipulation:** <br>\n",
        " 2.1. Extract Every Other Element:"
      ],
      "metadata": {
        "id": "_tsxS6SAx4Ce"
      }
    },
    {
      "cell_type": "code",
      "source": [
        "def extract_every_other(lst):\n",
        "    \"\"\"\n",
        "    Extracts every other element from a list, starting from the first element.\n",
        "\n",
        "    Parameters:\n",
        "        lst (list): The input list.\n",
        "\n",
        "    Returns:\n",
        "        list: A new list containing every other element from the original list.\n",
        "    \"\"\"\n",
        "    return lst[::2]\n",
        "\n",
        "\n",
        "# Example usage\n",
        "example_list = [1, 2, 3, 4, 5, 6]\n",
        "result = extract_every_other(example_list)\n",
        "print(result)"
      ],
      "metadata": {
        "colab": {
          "base_uri": "https://localhost:8080/"
        },
        "id": "L1dqgm-DadNQ",
        "outputId": "224ab244-7e9a-47a7-9293-1303909f7a71"
      },
      "execution_count": null,
      "outputs": [
        {
          "output_type": "stream",
          "name": "stdout",
          "text": [
            "[1, 3, 5]\n"
          ]
        }
      ]
    },
    {
      "cell_type": "markdown",
      "source": [
        "2.2. Slice a Sublist:"
      ],
      "metadata": {
        "id": "1W20ODBdyur7"
      }
    },
    {
      "cell_type": "code",
      "source": [
        "def get_sublist(lst, start, end):\n",
        "    \"\"\"\n",
        "    Returns a sublist from a given list, starting from a specified index and ending at another specified index (inclusive).\n",
        "\n",
        "    Parameters:\n",
        "        lst (list): The input list.\n",
        "        start (int): The starting index (inclusive).\n",
        "        end (int): The ending index (inclusive).\n",
        "\n",
        "    Returns:\n",
        "        list: The sublist from start to end (inclusive).\n",
        "    \"\"\"\n",
        "    return lst[start:end + 1]\n",
        "\n",
        "\n",
        "# Example usage\n",
        "example_list = [1, 2, 3, 4, 5, 6]\n",
        "result = get_sublist(example_list, 2, 4)\n",
        "print(result)"
      ],
      "metadata": {
        "colab": {
          "base_uri": "https://localhost:8080/"
        },
        "id": "2_MLgsqjdB3X",
        "outputId": "b7d693d4-d821-43fc-bfba-444f347f228f"
      },
      "execution_count": null,
      "outputs": [
        {
          "output_type": "stream",
          "name": "stdout",
          "text": [
            "[3, 4, 5]\n"
          ]
        }
      ]
    },
    {
      "cell_type": "markdown",
      "source": [
        "2.3. Remove the First and Last Elements:"
      ],
      "metadata": {
        "id": "Wwptgrkhyzoz"
      }
    },
    {
      "cell_type": "code",
      "source": [
        "def remove_first_last(lst):\n",
        "    \"\"\"\n",
        "    Removes the first and last elements of a list and returns the resulting sublist.\n",
        "\n",
        "    Parameters:\n",
        "        lst (list): The input list.\n",
        "\n",
        "    Returns:\n",
        "        list: The sublist without the first and last elements.\n",
        "    \"\"\"\n",
        "    return lst[1:-1]\n",
        "\n",
        "\n",
        "# Example usage\n",
        "example_list = [1, 2, 3, 4, 5]\n",
        "result = remove_first_last(example_list)\n",
        "print(result)"
      ],
      "metadata": {
        "colab": {
          "base_uri": "https://localhost:8080/"
        },
        "id": "uhSp92R2dFs8",
        "outputId": "c1fdd7f1-ab0d-44f1-cc6f-8bd69ae775c7"
      },
      "execution_count": null,
      "outputs": [
        {
          "output_type": "stream",
          "name": "stdout",
          "text": [
            "[2, 3, 4]\n"
          ]
        }
      ]
    },
    {
      "cell_type": "markdown",
      "source": [
        "2.4. Get the First n Elements:"
      ],
      "metadata": {
        "id": "8RHXy5GCy27U"
      }
    },
    {
      "cell_type": "code",
      "source": [
        "def get_first_n(lst, n):\n",
        "    \"\"\"\n",
        "    Extracts the first n elements from a list.\n",
        "\n",
        "    Parameters:\n",
        "        lst (list): The input list.\n",
        "        n (int): The number of elements to extract from the beginning of the list.\n",
        "\n",
        "    Returns:\n",
        "        list: The first n elements of the list.\n",
        "    \"\"\"\n",
        "    return lst[:n]\n",
        "\n",
        "\n",
        "# Example usage\n",
        "example_list = [1, 2, 3, 4, 5]\n",
        "n = 3\n",
        "result = get_first_n(example_list, n)\n",
        "print(result)"
      ],
      "metadata": {
        "colab": {
          "base_uri": "https://localhost:8080/"
        },
        "id": "PRRmjoLGdvEu",
        "outputId": "aebf6c6b-d439-4cbd-e02f-2de280b9c49d"
      },
      "execution_count": null,
      "outputs": [
        {
          "output_type": "stream",
          "name": "stdout",
          "text": [
            "[1, 2, 3]\n"
          ]
        }
      ]
    },
    {
      "cell_type": "markdown",
      "source": [
        "2.5. Extract Elements from the End:"
      ],
      "metadata": {
        "id": "BHufR5-Ky7jz"
      }
    },
    {
      "cell_type": "code",
      "source": [
        "def get_last_n(lst, n):\n",
        "    \"\"\"\n",
        "    Extracts the last n elements from a list.\n",
        "\n",
        "    Parameters:\n",
        "        lst (list): The input list.\n",
        "        n (int): The number of elements to extract from the end of the list.\n",
        "\n",
        "    Returns:\n",
        "        list: The last n elements of the list.\n",
        "    \"\"\"\n",
        "    return lst[-n:]\n",
        "\n",
        "\n",
        "# Example usage\n",
        "example_list = [1, 2, 3, 4, 5]\n",
        "n = 2\n",
        "result = get_last_n(example_list, n)\n",
        "print(result)"
      ],
      "metadata": {
        "colab": {
          "base_uri": "https://localhost:8080/"
        },
        "id": "ab4wrFDbdwFj",
        "outputId": "c761dcf5-272e-463a-8790-3562041550eb"
      },
      "execution_count": null,
      "outputs": [
        {
          "output_type": "stream",
          "name": "stdout",
          "text": [
            "[4, 5]\n"
          ]
        }
      ]
    },
    {
      "cell_type": "markdown",
      "source": [
        "2.6. Extract Elements in Reverse Order:"
      ],
      "metadata": {
        "id": "hJIPcwFw0BBT"
      }
    },
    {
      "cell_type": "code",
      "source": [
        "def reverse_skip(lst):\n",
        "    \"\"\"\n",
        "    Extracts a list of elements in reverse order, starting from the second-to-last element and skipping one element in between.\n",
        "\n",
        "    Parameters:\n",
        "        lst (list): The input list.\n",
        "\n",
        "    Returns:\n",
        "        list: A new list containing every second element starting from the second-to-last, moving backward.\n",
        "    \"\"\"\n",
        "    return lst[-2::-2]\n",
        "\n",
        "\n",
        "# Example usage\n",
        "example_list = [1, 2, 3, 4, 5, 6]\n",
        "result = reverse_skip(example_list)\n",
        "print(result)"
      ],
      "metadata": {
        "colab": {
          "base_uri": "https://localhost:8080/"
        },
        "id": "sxzo8wdfeC-K",
        "outputId": "6b1b6e94-cd2a-4e05-8b19-bb7f56579508"
      },
      "execution_count": null,
      "outputs": [
        {
          "output_type": "stream",
          "name": "stdout",
          "text": [
            "[5, 3, 1]\n"
          ]
        }
      ]
    },
    {
      "cell_type": "markdown",
      "source": [
        "3. **Exercise on Nested List:** <br>\n",
        " 2.1. Flatten a Nested List:"
      ],
      "metadata": {
        "id": "DfV-bAkK0Fm6"
      }
    },
    {
      "cell_type": "code",
      "source": [
        "def flatten(lst):\n",
        "    \"\"\"\n",
        "    Flattens a nested list into a single-dimensional list.\n",
        "\n",
        "    Parameters:\n",
        "        lst (list): The nested list to flatten.\n",
        "\n",
        "    Returns:\n",
        "        list: A flattened version of the input list.\n",
        "    \"\"\"\n",
        "    flattened = []\n",
        "    for item in lst:\n",
        "        if isinstance(item, list):  # Check if the item is a list\n",
        "            flattened.extend(flatten(item))  # Recursively flatten the nested list\n",
        "        else:\n",
        "            flattened.append(item)  # Add non-list items directly\n",
        "    return flattened\n",
        "\n",
        "\n",
        "# Example usage\n",
        "example_list = [[1, 2], [3, 4], [5]]\n",
        "result = flatten(example_list)\n",
        "print(result)"
      ],
      "metadata": {
        "colab": {
          "base_uri": "https://localhost:8080/"
        },
        "id": "yNufuuEGeScE",
        "outputId": "8f79e73f-938b-4d78-ca9a-505d2dd0c908"
      },
      "execution_count": null,
      "outputs": [
        {
          "output_type": "stream",
          "name": "stdout",
          "text": [
            "[1, 2, 3, 4, 5]\n"
          ]
        }
      ]
    },
    {
      "cell_type": "markdown",
      "source": [
        "2.2. Accessing Nested List Elements:"
      ],
      "metadata": {
        "id": "HBc7mgZx1g5f"
      }
    },
    {
      "cell_type": "code",
      "source": [
        "def access_nested_element(lst, indices):\n",
        "    \"\"\"\n",
        "    Extracts a specific element from a nested list given its indices.\n",
        "\n",
        "    Parameters:\n",
        "        lst (list): The nested list.\n",
        "        indices (list): A list of indices representing the position of the desired element.\n",
        "\n",
        "    Returns:\n",
        "        The element at the specified position in the nested list.\n",
        "    \"\"\"\n",
        "    result = lst\n",
        "    for index in indices:\n",
        "        result = result[index]  # Traverse the nested list using the indices\n",
        "    return result\n",
        "\n",
        "\n",
        "# Example usage\n",
        "example_list = [[1, 2, 3], [4, 5, 6], [7, 8, 9]]\n",
        "indices = [1, 2]\n",
        "result = access_nested_element(example_list, indices)\n",
        "print(result)"
      ],
      "metadata": {
        "colab": {
          "base_uri": "https://localhost:8080/"
        },
        "id": "COwdDHrReqOT",
        "outputId": "5deb0ced-92fe-4ddc-e628-4c815a026bc4"
      },
      "execution_count": null,
      "outputs": [
        {
          "output_type": "stream",
          "name": "stdout",
          "text": [
            "6\n"
          ]
        }
      ]
    },
    {
      "cell_type": "markdown",
      "source": [
        "2.3. Sum of All Elements in a Nested List:"
      ],
      "metadata": {
        "id": "vVMxP2Fp1nnB"
      }
    },
    {
      "cell_type": "code",
      "source": [
        "def sum_nested(lst):\n",
        "    \"\"\"\n",
        "    Calculates the sum of all elements in a nested list, regardless of depth.\n",
        "\n",
        "    Parameters:\n",
        "        lst (list): The nested list.\n",
        "\n",
        "    Returns:\n",
        "        int or float: The sum of all elements in the nested list.\n",
        "    \"\"\"\n",
        "    total = 0\n",
        "    for item in lst:\n",
        "        if isinstance(item, list):  # Check if the item is a list\n",
        "            total += sum_nested(item)  # Recursively sum the nested list\n",
        "        else:\n",
        "            total += item  # Add non-list items directly\n",
        "    return total\n",
        "\n",
        "\n",
        "# Example usage\n",
        "example_list = [[1, 2], [3, [4, 5]], 6]\n",
        "result = sum_nested(example_list)\n",
        "print(result)"
      ],
      "metadata": {
        "colab": {
          "base_uri": "https://localhost:8080/"
        },
        "id": "j4Sqgwfre7qG",
        "outputId": "a70e291a-a7fd-47ab-c118-da094189917c"
      },
      "execution_count": null,
      "outputs": [
        {
          "output_type": "stream",
          "name": "stdout",
          "text": [
            "21\n"
          ]
        }
      ]
    },
    {
      "cell_type": "markdown",
      "source": [
        "2.4. Remove Specific Element from a Nested List:"
      ],
      "metadata": {
        "id": "6OO9ZsH61sSO"
      }
    },
    {
      "cell_type": "code",
      "source": [
        "def remove_element(lst, elem):\n",
        "    \"\"\"\n",
        "    Removes all occurrences of a specific element from a nested list.\n",
        "\n",
        "    Parameters:\n",
        "        lst (list): The nested list.\n",
        "        elem: The element to remove.\n",
        "\n",
        "    Returns:\n",
        "        list: The modified list with all occurrences of `elem` removed.\n",
        "    \"\"\"\n",
        "    result = []\n",
        "    for item in lst:\n",
        "        if isinstance(item, list):  # Check if the item is a list\n",
        "            result.append(remove_element(item, elem))  # Recursively remove the element from the nested list\n",
        "        elif item != elem:  # Keep items that are not equal to `elem`\n",
        "            result.append(item)\n",
        "    return result\n",
        "\n",
        "\n",
        "# Example usage\n",
        "example_list = [[1, 2], [3, 2], [4, 5]]\n",
        "elem = 2\n",
        "result = remove_element(example_list, elem)\n",
        "print(result)"
      ],
      "metadata": {
        "colab": {
          "base_uri": "https://localhost:8080/"
        },
        "id": "0rSEXx55fYmA",
        "outputId": "d9997cbf-e95f-422a-ae93-c382f0f05cb9"
      },
      "execution_count": null,
      "outputs": [
        {
          "output_type": "stream",
          "name": "stdout",
          "text": [
            "[[1], [3], [4, 5]]\n"
          ]
        }
      ]
    },
    {
      "cell_type": "markdown",
      "source": [
        "2.5. Find the Maximum Element in a Nested List:"
      ],
      "metadata": {
        "id": "Lb2c0rjt1vef"
      }
    },
    {
      "cell_type": "code",
      "source": [
        "def find_max(lst):\n",
        "    \"\"\"\n",
        "    Finds the maximum element in a nested list, regardless of depth.\n",
        "\n",
        "    Parameters:\n",
        "        lst (list): The nested list.\n",
        "\n",
        "    Returns:\n",
        "        int or float: The maximum element in the nested list.\n",
        "    \"\"\"\n",
        "    max_val = float('-inf')  # Initialize with negative infinity\n",
        "    for item in lst:\n",
        "        if isinstance(item, list):  # Check if the item is a list\n",
        "            current_max = find_max(item)  # Recursively find the maximum in the nested list\n",
        "            if current_max > max_val:\n",
        "                max_val = current_max\n",
        "        elif item > max_val:  # Compare non-list items with the current maximum\n",
        "            max_val = item\n",
        "    return max_val\n",
        "\n",
        "\n",
        "# Example usage\n",
        "example_list = [[1, 2], [3, [4, 5]], 6]\n",
        "result = find_max(example_list)\n",
        "print(result)"
      ],
      "metadata": {
        "colab": {
          "base_uri": "https://localhost:8080/"
        },
        "id": "wO5dSY62gMav",
        "outputId": "7a38d757-826d-408f-935f-7c7c50aedc4f"
      },
      "execution_count": null,
      "outputs": [
        {
          "output_type": "stream",
          "name": "stdout",
          "text": [
            "6\n"
          ]
        }
      ]
    },
    {
      "cell_type": "markdown",
      "source": [
        "2.6. Count Occurrences of an Element in a Nested List:"
      ],
      "metadata": {
        "id": "wWeJrOBd107r"
      }
    },
    {
      "cell_type": "code",
      "source": [
        "def count_occurrences(lst, elem):\n",
        "    \"\"\"\n",
        "    Counts the occurrences of a specific element in a nested list.\n",
        "\n",
        "    Parameters:\n",
        "        lst (list): The nested list.\n",
        "        elem: The element to count.\n",
        "\n",
        "    Returns:\n",
        "        int: The number of occurrences of `elem` in the nested list.\n",
        "    \"\"\"\n",
        "    count = 0\n",
        "    for item in lst:\n",
        "        if isinstance(item, list):  # Check if the item is a list\n",
        "            count += count_occurrences(item, elem)  # Recursively count occurrences in the nested list\n",
        "        elif item == elem:  # Increment count if the item matches `elem`\n",
        "            count += 1\n",
        "    return count\n",
        "\n",
        "\n",
        "# Example usage\n",
        "example_list = [[1, 2], [2, 3], [2, 4]]\n",
        "elem = 2\n",
        "result = count_occurrences(example_list, elem)\n",
        "print(result)"
      ],
      "metadata": {
        "colab": {
          "base_uri": "https://localhost:8080/"
        },
        "id": "ize-LFocg33F",
        "outputId": "a857071f-29b0-40e7-8169-b5b7ee0a8c84"
      },
      "execution_count": null,
      "outputs": [
        {
          "output_type": "stream",
          "name": "stdout",
          "text": [
            "3\n"
          ]
        }
      ]
    },
    {
      "cell_type": "markdown",
      "source": [
        "2.7. Flatten a List of Lists of Lists:"
      ],
      "metadata": {
        "id": "ze81Eo4b12_c"
      }
    },
    {
      "cell_type": "code",
      "source": [
        "def deep_flatten(lst):\n",
        "    \"\"\"\n",
        "    Flattens a deeply nested list into a single list, regardless of depth.\n",
        "\n",
        "    Parameters:\n",
        "        lst (list): The deeply nested list.\n",
        "\n",
        "    Returns:\n",
        "        list: A single flattened list.\n",
        "    \"\"\"\n",
        "    flattened = []\n",
        "    for item in lst:\n",
        "        if isinstance(item, list):  # Check if the item is a list\n",
        "            flattened.extend(deep_flatten(item))  # Recursively flatten the nested list\n",
        "        else:\n",
        "            flattened.append(item)  # Add non-list items directly\n",
        "    return flattened\n",
        "\n",
        "\n",
        "# Example usage\n",
        "example_list = [[[1, 2], [3, 4]], [[5, 6], [7, 8]]]\n",
        "result = deep_flatten(example_list)\n",
        "print(result)"
      ],
      "metadata": {
        "colab": {
          "base_uri": "https://localhost:8080/"
        },
        "id": "1D9giqWJhihZ",
        "outputId": "88ea8a8a-5395-4306-e54e-0ec2e628daa1"
      },
      "execution_count": null,
      "outputs": [
        {
          "output_type": "stream",
          "name": "stdout",
          "text": [
            "[1, 2, 3, 4, 5, 6, 7, 8]\n"
          ]
        }
      ]
    },
    {
      "cell_type": "markdown",
      "source": [
        "2.8. Nested List Average:"
      ],
      "metadata": {
        "id": "33NbgwbY1-ZJ"
      }
    },
    {
      "cell_type": "code",
      "source": [
        "def average_nested(lst):\n",
        "    \"\"\"\n",
        "    Calculates the average of all elements in a nested list.\n",
        "\n",
        "    Parameters:\n",
        "        lst (list): The nested list.\n",
        "\n",
        "    Returns:\n",
        "        float: The average of all elements in the nested list.\n",
        "    \"\"\"\n",
        "    def flatten(lst):\n",
        "        \"\"\"\n",
        "        Helper function to flatten a nested list into a single list.\n",
        "        \"\"\"\n",
        "        flattened = []\n",
        "        for item in lst:\n",
        "            if isinstance(item, list):  # Check if the item is a list\n",
        "                flattened.extend(flatten(item))  # Recursively flatten the nested list\n",
        "            else:\n",
        "                flattened.append(item)  # Add non-list items directly\n",
        "        return flattened\n",
        "\n",
        "    flattened_list = flatten(lst)  # Flatten the nested list\n",
        "    if not flattened_list:  # Handle empty list case\n",
        "        return 0\n",
        "    return sum(flattened_list) / len(flattened_list)  # Calculate the average\n",
        "\n",
        "\n",
        "# Example usage\n",
        "example_list = [[1, 2], [3, 4], [5, 6]]\n",
        "result = average_nested(example_list)\n",
        "print(result)"
      ],
      "metadata": {
        "colab": {
          "base_uri": "https://localhost:8080/"
        },
        "id": "AHFphGgFjSjA",
        "outputId": "085b1a48-e838-4136-ccf7-9bb2a8f3e4a8"
      },
      "execution_count": null,
      "outputs": [
        {
          "output_type": "stream",
          "name": "stdout",
          "text": [
            "3.5\n"
          ]
        }
      ]
    },
    {
      "cell_type": "markdown",
      "source": [
        "3. **Basic Vector and Matrix Operation with Numpy.** <br>\n",
        " 3.1. Array Creation:"
      ],
      "metadata": {
        "id": "vKNaBxN0xg0X"
      }
    },
    {
      "cell_type": "code",
      "source": [
        "import numpy as np\n",
        "\n",
        "# Task 1: Initialize an empty array with size 2x2\n",
        "empty_array = np.empty((2, 2))\n",
        "print(\"1. Empty 2x2 array:\")\n",
        "print(empty_array)\n",
        "\n",
        "# Task 2: Initialize an all ones array with size 4x2\n",
        "ones_array = np.ones((4, 2))\n",
        "print(\"\\n2. All ones 4x2 array:\")\n",
        "print(ones_array)\n",
        "\n",
        "# Task 3: Return a new array of given shape and type, filled with fill value\n",
        "fill_value_array = np.full((3, 3), 5)  # Shape: 3x3, Fill value: 5\n",
        "print(\"\\n3. Array filled with value 5:\")\n",
        "print(fill_value_array)\n",
        "\n",
        "# Task 4: Return a new array of zeros with same shape and type as a given array\n",
        "given_array = np.array([[1, 2], [3, 4]])\n",
        "zeros_like_array = np.zeros_like(given_array)\n",
        "print(\"\\n4. Zeros array with same shape and type as given array:\")\n",
        "print(zeros_like_array)\n",
        "\n",
        "# Task 5: Return a new array of ones with same shape and type as a given array\n",
        "ones_like_array = np.ones_like(given_array)\n",
        "print(\"\\n5. Ones array with same shape and type as given array:\")\n",
        "print(ones_like_array)\n",
        "\n",
        "# Task 6: Convert an existing list to a NumPy array\n",
        "new_list = [1, 2, 3, 4]\n",
        "numpy_array = np.array(new_list)\n",
        "print(\"\\n6. Converted NumPy array from list:\")\n",
        "print(numpy_array)"
      ],
      "metadata": {
        "colab": {
          "base_uri": "https://localhost:8080/"
        },
        "id": "DCf5q3Hbkz1A",
        "outputId": "717ecfb3-03a2-4b6c-d560-153cdef82509"
      },
      "execution_count": null,
      "outputs": [
        {
          "output_type": "stream",
          "name": "stdout",
          "text": [
            "1. Empty 2x2 array:\n",
            "[[3.19794636e-316 0.00000000e+000]\n",
            " [2.22809558e-312 2.54639495e-312]]\n",
            "\n",
            "2. All ones 4x2 array:\n",
            "[[1. 1.]\n",
            " [1. 1.]\n",
            " [1. 1.]\n",
            " [1. 1.]]\n",
            "\n",
            "3. Array filled with value 5:\n",
            "[[5 5 5]\n",
            " [5 5 5]\n",
            " [5 5 5]]\n",
            "\n",
            "4. Zeros array with same shape and type as given array:\n",
            "[[0 0]\n",
            " [0 0]]\n",
            "\n",
            "5. Ones array with same shape and type as given array:\n",
            "[[1 1]\n",
            " [1 1]]\n",
            "\n",
            "6. Converted NumPy array from list:\n",
            "[1 2 3 4]\n"
          ]
        }
      ]
    },
    {
      "cell_type": "markdown",
      "source": [
        "3.2. Array Manipulation: Numerical Ranges and Array indexing:"
      ],
      "metadata": {
        "id": "flPEEHma8B3C"
      }
    },
    {
      "cell_type": "code",
      "source": [
        "# Task 1: Create an array with values ranging from 10 to 49\n",
        "array_10_to_49 = np.arange(10, 50)\n",
        "print(\"1. Array with values from 10 to 49:\")\n",
        "print(array_10_to_49)\n",
        "\n",
        "# Task 2: Create a 3x3 matrix with values ranging from 0 to 8\n",
        "matrix_3x3 = np.arange(9).reshape(3, 3)\n",
        "print(\"\\n2. 3x3 matrix with values from 0 to 8:\")\n",
        "print(matrix_3x3)\n",
        "\n",
        "# Task 3: Create a 3x3 identity matrix\n",
        "identity_matrix = np.eye(3)\n",
        "print(\"\\n3. 3x3 identity matrix:\")\n",
        "print(identity_matrix)\n",
        "\n",
        "# Task 4: Create a random array of size 30 and find the mean\n",
        "random_array = np.random.random(30)\n",
        "mean_value = random_array.mean()\n",
        "print(\"\\n4. Random array of size 30 and its mean:\")\n",
        "print(random_array)\n",
        "print(\"Mean:\", mean_value)\n",
        "\n",
        "# Task 5: Create a 10x10 array with random values and find the min and max\n",
        "random_10x10 = np.random.random((10, 10))\n",
        "min_value = random_10x10.min()\n",
        "max_value = random_10x10.max()\n",
        "print(\"\\n5. 10x10 random array and its min and max values:\")\n",
        "print(random_10x10)\n",
        "print(\"Min:\", min_value)\n",
        "print(\"Max:\", max_value)\n",
        "\n",
        "# Task 6: Create a zero array of size 10 and replace the 5th element with 1\n",
        "zero_array = np.zeros(10)\n",
        "zero_array[4] = 1  # Indexing starts from 0, so 5th element is at index 4\n",
        "print(\"\\n6. Zero array of size 10 with 5th element replaced by 1:\")\n",
        "print(zero_array)\n",
        "\n",
        "# Task 7: Reverse an array arr = [1, 2, 0, 0, 4, 0]\n",
        "arr = np.array([1, 2, 0, 0, 4, 0])\n",
        "reversed_arr = arr[::-1]\n",
        "print(\"\\n7. Reversed array:\")\n",
        "print(reversed_arr)\n",
        "\n",
        "# Task 8: Create a 2D array with 1 on the border and 0 inside\n",
        "border_array = np.ones((5, 5))\n",
        "border_array[1:-1, 1:-1] = 0  # Set the inner elements to 0\n",
        "print(\"\\n8. 2D array with 1 on the border and 0 inside:\")\n",
        "print(border_array)\n",
        "\n",
        "# Task 9: Create an 8x8 matrix and fill it with a checkerboard pattern\n",
        "checkerboard = np.zeros((8, 8), dtype=int)\n",
        "checkerboard[1::2, ::2] = 1  # Set odd rows, even columns to 1\n",
        "checkerboard[::2, 1::2] = 1  # Set even rows, odd columns to 1\n",
        "print(\"\\n9. 8x8 checkerboard pattern:\")\n",
        "print(checkerboard)"
      ],
      "metadata": {
        "colab": {
          "base_uri": "https://localhost:8080/"
        },
        "id": "0MswKq_j3FUU",
        "outputId": "4ac7c096-9fa5-42d9-c3b7-87b978b9c4fc"
      },
      "execution_count": null,
      "outputs": [
        {
          "output_type": "stream",
          "name": "stdout",
          "text": [
            "1. Array with values from 10 to 49:\n",
            "[10 11 12 13 14 15 16 17 18 19 20 21 22 23 24 25 26 27 28 29 30 31 32 33\n",
            " 34 35 36 37 38 39 40 41 42 43 44 45 46 47 48 49]\n",
            "\n",
            "2. 3x3 matrix with values from 0 to 8:\n",
            "[[0 1 2]\n",
            " [3 4 5]\n",
            " [6 7 8]]\n",
            "\n",
            "3. 3x3 identity matrix:\n",
            "[[1. 0. 0.]\n",
            " [0. 1. 0.]\n",
            " [0. 0. 1.]]\n",
            "\n",
            "4. Random array of size 30 and its mean:\n",
            "[0.61440846 0.27535174 0.38261028 0.67241471 0.85238581 0.54961459\n",
            " 0.5108396  0.82160911 0.35148745 0.50424657 0.16210641 0.05300129\n",
            " 0.10386472 0.21868353 0.99556523 0.18778024 0.3596772  0.88850271\n",
            " 0.79925122 0.10355261 0.78041193 0.71116788 0.57889334 0.78421519\n",
            " 0.86806067 0.31455037 0.47760517 0.91841554 0.35584765 0.41732209]\n",
            "Mean: 0.5204481101562174\n",
            "\n",
            "5. 10x10 random array and its min and max values:\n",
            "[[0.36724255 0.75981086 0.84867964 0.35521504 0.88326754 0.46587984\n",
            "  0.88621072 0.2153944  0.15234563 0.25538566]\n",
            " [0.83662537 0.37597499 0.14428944 0.13578896 0.09945893 0.88595351\n",
            "  0.1981547  0.53000104 0.09447898 0.43595765]\n",
            " [0.53952571 0.10240601 0.82207678 0.93636379 0.80041779 0.05009702\n",
            "  0.23099737 0.9463047  0.89106163 0.50503227]\n",
            " [0.83863636 0.22841114 0.74763852 0.61819208 0.71634837 0.90408775\n",
            "  0.65531698 0.53579568 0.10204727 0.95834767]\n",
            " [0.02070986 0.09276704 0.97155984 0.17831479 0.77582119 0.85109562\n",
            "  0.87356765 0.7372387  0.96740536 0.22826983]\n",
            " [0.41849256 0.05119782 0.63193564 0.00977106 0.09411144 0.61204511\n",
            "  0.46367953 0.61400382 0.17132123 0.89845916]\n",
            " [0.15145825 0.74488306 0.45723066 0.93439217 0.14906041 0.52170024\n",
            "  0.28694101 0.63575993 0.9857283  0.12147078]\n",
            " [0.32268783 0.85971861 0.85763322 0.30667462 0.62869549 0.08736754\n",
            "  0.83124953 0.72761751 0.18775388 0.77123761]\n",
            " [0.67618072 0.11572736 0.90695137 0.31815593 0.52136276 0.06913173\n",
            "  0.11776307 0.91430662 0.21609918 0.02869259]\n",
            " [0.41695023 0.64689625 0.31590878 0.60644997 0.66240129 0.21802259\n",
            "  0.85483716 0.96882345 0.66810552 0.38873915]]\n",
            "Min: 0.009771062804356911\n",
            "Max: 0.9857282983431438\n",
            "\n",
            "6. Zero array of size 10 with 5th element replaced by 1:\n",
            "[0. 0. 0. 0. 1. 0. 0. 0. 0. 0.]\n",
            "\n",
            "7. Reversed array:\n",
            "[0 4 0 0 2 1]\n",
            "\n",
            "8. 2D array with 1 on the border and 0 inside:\n",
            "[[1. 1. 1. 1. 1.]\n",
            " [1. 0. 0. 0. 1.]\n",
            " [1. 0. 0. 0. 1.]\n",
            " [1. 0. 0. 0. 1.]\n",
            " [1. 1. 1. 1. 1.]]\n",
            "\n",
            "9. 8x8 checkerboard pattern:\n",
            "[[0 1 0 1 0 1 0 1]\n",
            " [1 0 1 0 1 0 1 0]\n",
            " [0 1 0 1 0 1 0 1]\n",
            " [1 0 1 0 1 0 1 0]\n",
            " [0 1 0 1 0 1 0 1]\n",
            " [1 0 1 0 1 0 1 0]\n",
            " [0 1 0 1 0 1 0 1]\n",
            " [1 0 1 0 1 0 1 0]]\n"
          ]
        }
      ]
    },
    {
      "cell_type": "markdown",
      "source": [
        "3.3. Array Operations:"
      ],
      "metadata": {
        "id": "8bA-1w-68KZw"
      }
    },
    {
      "cell_type": "code",
      "source": [
        "# Given arrays\n",
        "x = np.array([[1, 2], [3, 5]])\n",
        "y = np.array([[5, 6], [7, 8]])\n",
        "v = np.array([9, 10])\n",
        "w = np.array([11, 12])\n",
        "\n",
        "# Task 1: Add the two arrays\n",
        "add_result = x + y\n",
        "print(\"1. Addition of x and y:\")\n",
        "print(add_result)\n",
        "\n",
        "# Task 2: Subtract the two arrays\n",
        "subtract_result = x - y\n",
        "print(\"\\n2. Subtraction of x and y:\")\n",
        "print(subtract_result)\n",
        "\n",
        "# Task 3: Multiply the array with any integer\n",
        "multiply_result = x * 3  # Multiply x by 3\n",
        "print(\"\\n3. Multiplication of x by 3:\")\n",
        "print(multiply_result)\n",
        "\n",
        "# Task 4: Find the square of each element of the array\n",
        "square_result = np.square(x)\n",
        "print(\"\\n4. Square of each element of x:\")\n",
        "print(square_result)\n",
        "\n",
        "# Task 5: Find the dot product\n",
        "dot_v_w = np.dot(v, w)  # Dot product of v and w\n",
        "dot_x_v = np.dot(x, v)  # Dot product of x and v\n",
        "dot_x_y = np.dot(x, y)  # Dot product of x and y\n",
        "print(\"\\n5. Dot products:\")\n",
        "print(\"Dot product of v and w:\", dot_v_w)\n",
        "print(\"Dot product of x and v:\", dot_x_v)\n",
        "print(\"Dot product of x and y:\")\n",
        "print(dot_x_y)\n",
        "\n",
        "# Task 6: Concatenate x and y along row, and v and w along column\n",
        "concatenate_row = np.concatenate((x, y), axis=0)  # Along rows\n",
        "concatenate_col = np.concatenate((v[:, np.newaxis], w[:, np.newaxis]), axis=1)  # Along columns\n",
        "print(\"\\n6. Concatenation:\")\n",
        "print(\"Concatenate x and y along row:\")\n",
        "print(concatenate_row)\n",
        "print(\"Concatenate v and w along column:\")\n",
        "print(concatenate_col)\n",
        "\n",
        "# Task 7: Concatenate x and v\n",
        "try:\n",
        "    concatenate_x_v = np.concatenate((x, v))\n",
        "    print(\"\\n7. Concatenate x and v:\")\n",
        "    print(concatenate_x_v)\n",
        "except ValueError as e:\n",
        "    print(\"\\n7. Error when concatenating x and v:\")\n",
        "    print(e)"
      ],
      "metadata": {
        "colab": {
          "base_uri": "https://localhost:8080/"
        },
        "id": "dB6xa1Ke32N_",
        "outputId": "d0dc8a0c-1b09-4680-aa57-c3a268b3777e"
      },
      "execution_count": null,
      "outputs": [
        {
          "output_type": "stream",
          "name": "stdout",
          "text": [
            "1. Addition of x and y:\n",
            "[[ 6  8]\n",
            " [10 13]]\n",
            "\n",
            "2. Subtraction of x and y:\n",
            "[[-4 -4]\n",
            " [-4 -3]]\n",
            "\n",
            "3. Multiplication of x by 3:\n",
            "[[ 3  6]\n",
            " [ 9 15]]\n",
            "\n",
            "4. Square of each element of x:\n",
            "[[ 1  4]\n",
            " [ 9 25]]\n",
            "\n",
            "5. Dot products:\n",
            "Dot product of v and w: 219\n",
            "Dot product of x and v: [29 77]\n",
            "Dot product of x and y:\n",
            "[[19 22]\n",
            " [50 58]]\n",
            "\n",
            "6. Concatenation:\n",
            "Concatenate x and y along row:\n",
            "[[1 2]\n",
            " [3 5]\n",
            " [5 6]\n",
            " [7 8]]\n",
            "Concatenate v and w along column:\n",
            "[[ 9 11]\n",
            " [10 12]]\n",
            "\n",
            "7. Error when concatenating x and v:\n",
            "all the input arrays must have same number of dimensions, but the array at index 0 has 2 dimension(s) and the array at index 1 has 1 dimension(s)\n"
          ]
        }
      ]
    },
    {
      "cell_type": "markdown",
      "source": [
        "3.4. Matrix Operations:"
      ],
      "metadata": {
        "id": "FUXIlc6e8OUn"
      }
    },
    {
      "cell_type": "code",
      "source": [
        "# Given matrices\n",
        "A = np.array([[3, 4], [7, 8]])\n",
        "B = np.array([[5, 3], [2, 1]])\n",
        "\n",
        "# Task 1: Prove A.A−1 = I\n",
        "A_inv = np.linalg.inv(A)  # Inverse of A\n",
        "identity_matrix = np.dot(A, A_inv)  # A.A−1\n",
        "print(\"1. A.A−1:\")\n",
        "print(identity_matrix)\n",
        "\n",
        "# Task 2: Prove AB ≠ BA\n",
        "AB = np.dot(A, B)  # AB\n",
        "BA = np.dot(B, A)  # BA\n",
        "print(\"\\n2. AB:\")\n",
        "print(AB)\n",
        "print(\"BA:\")\n",
        "print(BA)\n",
        "print(\"AB ≠ BA:\", not np.array_equal(AB, BA))\n",
        "\n",
        "# Task 3: Prove (AB)^T = B^T A^T\n",
        "AB_transpose = AB.T  # (AB)^T\n",
        "B_transpose_A_transpose = np.dot(B.T, A.T)  # B^T A^T\n",
        "print(\"\\n3. (AB)^T:\")\n",
        "print(AB_transpose)\n",
        "print(\"B^T A^T:\")\n",
        "print(B_transpose_A_transpose)\n",
        "print(\"(AB)^T == B^T A^T:\", np.array_equal(AB_transpose, B_transpose_A_transpose))"
      ],
      "metadata": {
        "colab": {
          "base_uri": "https://localhost:8080/"
        },
        "id": "XTuboyWW4bU2",
        "outputId": "d6728dfd-2c54-402e-cac2-c56c06c02252"
      },
      "execution_count": null,
      "outputs": [
        {
          "output_type": "stream",
          "name": "stdout",
          "text": [
            "1. A.A−1:\n",
            "[[1.00000000e+00 0.00000000e+00]\n",
            " [1.77635684e-15 1.00000000e+00]]\n",
            "\n",
            "2. AB:\n",
            "[[23 13]\n",
            " [51 29]]\n",
            "BA:\n",
            "[[36 44]\n",
            " [13 16]]\n",
            "AB ≠ BA: True\n",
            "\n",
            "3. (AB)^T:\n",
            "[[23 51]\n",
            " [13 29]]\n",
            "B^T A^T:\n",
            "[[23 51]\n",
            " [13 29]]\n",
            "(AB)^T == B^T A^T: True\n"
          ]
        }
      ]
    },
    {
      "cell_type": "code",
      "source": [
        "# System of equations:\n",
        "# 2x - 3y + z = -1\n",
        "# x - y + 2z = -3\n",
        "# 3x + y - z = 9\n",
        "\n",
        "# Represent the system in matrix form: AX = B\n",
        "A = np.array([[2, -3, 1],\n",
        "              [1, -1, 2],\n",
        "              [3, 1, -1]])\n",
        "B = np.array([-1, -3, 9])\n",
        "\n",
        "# Solve for X using inverse method: X = A^(-1) . B\n",
        "A_inv = np.linalg.inv(A)  # Inverse of A\n",
        "X = np.dot(A_inv, B)  # X = A^(-1) . B\n",
        "print(\"\\nSolution using Inverse Method:\")\n",
        "print(\"x =\", X[0])\n",
        "print(\"y =\", X[1])\n",
        "print(\"z =\", X[2])"
      ],
      "metadata": {
        "colab": {
          "base_uri": "https://localhost:8080/"
        },
        "id": "ITTVGfE27bd1",
        "outputId": "4133fbe3-d420-4598-d144-260da53eac4b"
      },
      "execution_count": null,
      "outputs": [
        {
          "output_type": "stream",
          "name": "stdout",
          "text": [
            "\n",
            "Solution using Inverse Method:\n",
            "x = 2.0\n",
            "y = 1.0\n",
            "z = -2.0\n"
          ]
        }
      ]
    },
    {
      "cell_type": "code",
      "source": [
        "# Solve for X using np.linalg.solve\n",
        "X_solve = np.linalg.solve(A, B)\n",
        "print(\"\\nSolution using np.linalg.solve:\")\n",
        "print(\"x =\", X_solve[0])\n",
        "print(\"y =\", X_solve[1])\n",
        "print(\"z =\", X_solve[2])"
      ],
      "metadata": {
        "colab": {
          "base_uri": "https://localhost:8080/"
        },
        "id": "dYtUOyTO7dUh",
        "outputId": "6fb5059d-7ceb-476a-f27b-db6a0696ab56"
      },
      "execution_count": null,
      "outputs": [
        {
          "output_type": "stream",
          "name": "stdout",
          "text": [
            "\n",
            "Solution using np.linalg.solve:\n",
            "x = 2.0\n",
            "y = 1.0000000000000002\n",
            "z = -2.0\n"
          ]
        }
      ]
    },
    {
      "cell_type": "markdown",
      "source": [
        "# Experiment: How Fast is Numpy?\n",
        " **1. Element-wise Addition:**"
      ],
      "metadata": {
        "id": "gLlkskv-iKu2"
      }
    },
    {
      "cell_type": "code",
      "source": [
        "#Using Python Lists, perform element-wise addition of two lists of size 1, 000, 000.\n",
        "import time\n",
        "import random\n",
        "\n",
        "# Define the size of the lists\n",
        "size = 1_000_000\n",
        "\n",
        "# Generate two lists with random integers\n",
        "list1 = [random.randint(0, 100) for _ in range(size)]\n",
        "list2 = [random.randint(0, 100) for _ in range(size)]\n",
        "\n",
        "# Measure the time taken for element-wise addition using list comprehension\n",
        "start_time = time.time()\n",
        "\n",
        "result = [a + b for a, b in zip(list1, list2)]\n",
        "\n",
        "end_time = time.time()\n",
        "\n",
        "# Print the time taken\n",
        "print(f\"Time taken for element-wise addition using Python lists: {end_time - start_time:.6f} seconds\")\n"
      ],
      "metadata": {
        "colab": {
          "base_uri": "https://localhost:8080/"
        },
        "id": "wSeJFkDOgEJl",
        "outputId": "79292fd3-f15f-4fe0-8810-9bc686abcff4"
      },
      "execution_count": 1,
      "outputs": [
        {
          "output_type": "stream",
          "name": "stdout",
          "text": [
            "Time taken for element-wise addition using Python lists: 0.089078 seconds\n"
          ]
        }
      ]
    },
    {
      "cell_type": "code",
      "source": [
        "#Using Numpy Arrays, Repeat the calculation and measure and print the time taken for this operation.\n",
        "import time\n",
        "import numpy as np\n",
        "\n",
        "# Define the size of the arrays\n",
        "size = 1_000_000\n",
        "\n",
        "# Generate two NumPy arrays with random integers\n",
        "array1 = np.random.randint(0, 100, size)\n",
        "array2 = np.random.randint(0, 100, size)\n",
        "\n",
        "# Measure the time taken for element-wise addition using NumPy\n",
        "start_time = time.time()\n",
        "\n",
        "result_array = array1 + array2  # Vectorized operation\n",
        "\n",
        "end_time = time.time()\n",
        "\n",
        "# Print the time taken\n",
        "print(f\"Time taken for element-wise addition using NumPy arrays: {end_time - start_time:.6f} seconds\")\n"
      ],
      "metadata": {
        "colab": {
          "base_uri": "https://localhost:8080/"
        },
        "id": "9M3p9TGmgiRf",
        "outputId": "b5125b36-52d5-4926-b988-afd352756b38"
      },
      "execution_count": 2,
      "outputs": [
        {
          "output_type": "stream",
          "name": "stdout",
          "text": [
            "Time taken for element-wise addition using NumPy arrays: 0.005590 seconds\n"
          ]
        }
      ]
    },
    {
      "cell_type": "markdown",
      "source": [
        "**2. Element-wise Multiplication**"
      ],
      "metadata": {
        "id": "MYRGm7ESief-"
      }
    },
    {
      "cell_type": "code",
      "source": [
        "#Using Python Lists, perform element-wise multiplication of two lists of size 1, 000, 000. Measure and Print the time taken for this operation.\n",
        "import time\n",
        "import random\n",
        "\n",
        "# Define the size of the lists\n",
        "size = 1_000_000\n",
        "\n",
        "# Generate two lists with random integers\n",
        "list1 = [random.randint(0, 100) for _ in range(size)]\n",
        "list2 = [random.randint(0, 100) for _ in range(size)]\n",
        "\n",
        "# Measure the time taken for element-wise multiplication using list comprehension\n",
        "start_time = time.time()\n",
        "\n",
        "result = [a * b for a, b in zip(list1, list2)]  # Multiplication operation\n",
        "\n",
        "end_time = time.time()\n",
        "\n",
        "# Print the time taken\n",
        "print(f\"Time taken for element-wise multiplication using Python lists: {end_time - start_time:.6f} seconds\")\n"
      ],
      "metadata": {
        "colab": {
          "base_uri": "https://localhost:8080/"
        },
        "id": "wb1m7d6BgnUz",
        "outputId": "89cfb030-4e2b-4154-956d-800642e96b88"
      },
      "execution_count": 3,
      "outputs": [
        {
          "output_type": "stream",
          "name": "stdout",
          "text": [
            "Time taken for element-wise multiplication using Python lists: 0.064225 seconds\n"
          ]
        }
      ]
    },
    {
      "cell_type": "code",
      "source": [
        "#Using Numpy Arrays, Repeat the calculation and measure and print the time taken for this operation.\n",
        "import time\n",
        "import numpy as np\n",
        "\n",
        "# Define the size of the arrays\n",
        "size = 1_000_000\n",
        "\n",
        "# Generate two NumPy arrays with random integers\n",
        "array1 = np.random.randint(0, 100, size)\n",
        "array2 = np.random.randint(0, 100, size)\n",
        "\n",
        "# Measure the time taken for element-wise multiplication using NumPy\n",
        "start_time = time.time()\n",
        "\n",
        "result_array = array1 * array2  # Vectorized multiplication\n",
        "\n",
        "end_time = time.time()\n",
        "\n",
        "# Print the time taken\n",
        "print(f\"Time taken for element-wise multiplication using NumPy arrays: {end_time - start_time:.6f} seconds\")"
      ],
      "metadata": {
        "colab": {
          "base_uri": "https://localhost:8080/"
        },
        "id": "zZIHYbiYgsAd",
        "outputId": "9dd88320-0e4c-490c-bbb2-903dc59c259e"
      },
      "execution_count": 4,
      "outputs": [
        {
          "output_type": "stream",
          "name": "stdout",
          "text": [
            "Time taken for element-wise multiplication using NumPy arrays: 0.005445 seconds\n"
          ]
        }
      ]
    },
    {
      "cell_type": "markdown",
      "source": [
        "**3. Dot Product**"
      ],
      "metadata": {
        "id": "xmuxT868io7b"
      }
    },
    {
      "cell_type": "code",
      "source": [
        "# Using Python Lists, compute the dot product of two lists of size 1, 000, 000. Measure and Print the time taken for this operation.\n",
        "import time\n",
        "import random\n",
        "\n",
        "# Define the size of the lists\n",
        "size = 1_000_000\n",
        "\n",
        "# Generate two lists with random integers\n",
        "list1 = [random.randint(0, 100) for _ in range(size)]\n",
        "list2 = [random.randint(0, 100) for _ in range(size)]\n",
        "\n",
        "# Measure the time taken for computing the dot product using Python lists\n",
        "start_time = time.time()\n",
        "\n",
        "dot_product = sum(a * b for a, b in zip(list1, list2))  # Manual dot product calculation\n",
        "\n",
        "end_time = time.time()\n",
        "\n",
        "# Print the time taken\n",
        "print(f\"Time taken for dot product using Python lists: {end_time - start_time:.6f} seconds\")"
      ],
      "metadata": {
        "colab": {
          "base_uri": "https://localhost:8080/"
        },
        "id": "pgGv_EWUguRQ",
        "outputId": "a64aa3d1-f13a-449a-f8a4-1b2d92cc32bc"
      },
      "execution_count": 5,
      "outputs": [
        {
          "output_type": "stream",
          "name": "stdout",
          "text": [
            "Time taken for dot product using Python lists: 0.070568 seconds\n"
          ]
        }
      ]
    },
    {
      "cell_type": "code",
      "source": [
        "#Using Numpy Arrays, Repeat the calculation and measure and print the time taken for this operation.\n",
        "import time\n",
        "import numpy as np\n",
        "\n",
        "# Define the size of the arrays\n",
        "size = 1_000_000\n",
        "\n",
        "# Generate two NumPy arrays with random integers\n",
        "array1 = np.random.randint(0, 100, size)\n",
        "array2 = np.random.randint(0, 100, size)\n",
        "\n",
        "# Measure the time taken for computing the dot product using NumPy\n",
        "start_time = time.time()\n",
        "\n",
        "dot_product = np.dot(array1, array2)  # Optimized dot product calculation\n",
        "\n",
        "end_time = time.time()\n",
        "\n",
        "# Print the time taken\n",
        "print(f\"Time taken for dot product using NumPy arrays: {end_time - start_time:.6f} seconds\")"
      ],
      "metadata": {
        "colab": {
          "base_uri": "https://localhost:8080/"
        },
        "id": "Y4FQa2Wmgxu9",
        "outputId": "eab14705-214f-4f2f-d5db-cb5e779982b4"
      },
      "execution_count": 6,
      "outputs": [
        {
          "output_type": "stream",
          "name": "stdout",
          "text": [
            "Time taken for dot product using NumPy arrays: 0.002212 seconds\n"
          ]
        }
      ]
    },
    {
      "cell_type": "markdown",
      "source": [
        "**4. Matrix Multiplication**"
      ],
      "metadata": {
        "id": "pHST0bcliuXQ"
      }
    },
    {
      "cell_type": "code",
      "source": [
        "#Using Python lists, perform matrix multiplication of two matrices of size 1000x1000. Mea- sure and print the time taken for this operation.\n",
        "\n",
        "import time\n",
        "import random\n",
        "\n",
        "# Define the size of the matrices\n",
        "size = 1000\n",
        "\n",
        "# Generate two 1000x1000 matrices with random integers\n",
        "matrix1 = [[random.randint(0, 100) for _ in range(size)] for _ in range(size)]\n",
        "matrix2 = [[random.randint(0, 100) for _ in range(size)] for _ in range(size)]\n",
        "\n",
        "# Initialize the result matrix with zeros\n",
        "result = [[0] * size for _ in range(size)]\n",
        "\n",
        "# Measure the time taken for matrix multiplication using nested loops\n",
        "start_time = time.time()\n",
        "\n",
        "for i in range(size):\n",
        "    for j in range(size):\n",
        "        for k in range(size):\n",
        "            result[i][j] += matrix1[i][k] * matrix2[k][j]\n",
        "\n",
        "end_time = time.time()\n",
        "\n",
        "# Print the time taken\n",
        "print(f\"Time taken for matrix multiplication using Python lists: {end_time - start_time:.6f} seconds\")"
      ],
      "metadata": {
        "colab": {
          "base_uri": "https://localhost:8080/"
        },
        "id": "cZAOv9-fg0zh",
        "outputId": "11dec8ca-cdc6-45e3-9137-137f626c8705"
      },
      "execution_count": 7,
      "outputs": [
        {
          "output_type": "stream",
          "name": "stdout",
          "text": [
            "Time taken for matrix multiplication using Python lists: 298.519130 seconds\n"
          ]
        }
      ]
    },
    {
      "cell_type": "code",
      "source": [
        "#Using NumPy arrays, perform matrix multiplication of two matrices of size 1000x1000. Measure and print the time taken for this operation.\n",
        "import time\n",
        "import numpy as np\n",
        "\n",
        "# Define the size of the matrices\n",
        "size = 1000\n",
        "\n",
        "# Generate two 1000x1000 matrices with random integers using NumPy\n",
        "matrix1 = np.random.randint(0, 100, (size, size))\n",
        "matrix2 = np.random.randint(0, 100, (size, size))\n",
        "\n",
        "# Measure the time taken for matrix multiplication using NumPy\n",
        "start_time = time.time()\n",
        "\n",
        "# Matrix multiplication using NumPy's dot product function\n",
        "result = np.dot(matrix1, matrix2)\n",
        "\n",
        "end_time = time.time()\n",
        "\n",
        "# Print the time taken\n",
        "print(f\"Time taken for matrix multiplication using NumPy: {end_time - start_time:.6f} seconds\")"
      ],
      "metadata": {
        "colab": {
          "base_uri": "https://localhost:8080/"
        },
        "id": "nsEvznUJiE7W",
        "outputId": "7d74c546-d440-47d8-bc66-bba89cc7e400"
      },
      "execution_count": 8,
      "outputs": [
        {
          "output_type": "stream",
          "name": "stdout",
          "text": [
            "Time taken for matrix multiplication using NumPy: 1.581538 seconds\n"
          ]
        }
      ]
    }
  ]
}